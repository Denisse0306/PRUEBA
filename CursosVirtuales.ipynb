{
  "nbformat": 4,
  "nbformat_minor": 0,
  "metadata": {
    "colab": {
      "provenance": [],
      "authorship_tag": "ABX9TyPLE/nT08olxvT+K52gYaIT",
      "include_colab_link": true
    },
    "kernelspec": {
      "name": "python3",
      "display_name": "Python 3"
    },
    "language_info": {
      "name": "python"
    }
  },
  "cells": [
    {
      "cell_type": "markdown",
      "metadata": {
        "id": "view-in-github",
        "colab_type": "text"
      },
      "source": [
        "<a href=\"https://colab.research.google.com/github/Denisse0306/PRUEBA/blob/main/CursosVirtuales.ipynb\" target=\"_parent\"><img src=\"https://colab.research.google.com/assets/colab-badge.svg\" alt=\"Open In Colab\"/></a>"
      ]
    },
    {
      "cell_type": "code",
      "execution_count": 19,
      "metadata": {
        "colab": {
          "base_uri": "https://localhost:8080/"
        },
        "id": "XW3ZPYs17ciN",
        "outputId": "7549bd22-2edc-46d1-fe72-2568bcbdb8bd"
      },
      "outputs": [
        {
          "output_type": "stream",
          "name": "stdout",
          "text": [
            "Juan  juan@gmail.com  0101\n",
            "Maria  maria@gmail.com  0102\n",
            "Jose  jose@gmail.com  0103\n",
            "Carlos  carlos@gmail.com  0104\n"
          ]
        }
      ],
      "source": [
        "class Estudiante:\n",
        "  def __init__(self,nombre,matricula,correo):\n",
        "      self.nombre = nombre\n",
        "      self.matricula = matricula\n",
        "      self.correo = correo\n",
        "\n",
        "  def obtenerNombre(self):\n",
        "      print(self.nombre,'',self.correo,'',self.matricula)\n",
        "\n",
        "estudiante1 = Estudiante('Juan','0101','juan@gmail.com')\n",
        "estudiante2 = Estudiante('Maria','0102','maria@gmail.com')\n",
        "estudiante3 = Estudiante('Jose','0103','jose@gmail.com')\n",
        "estudiante4 = Estudiante('Carlos','0104','carlos@gmail.com')\n",
        "estudiante1.obtenerNombre()\n",
        "estudiante2.obtenerNombre()\n",
        "estudiante3.obtenerNombre()\n",
        "estudiante4.obtenerNombre()"
      ]
    }
  ]
}