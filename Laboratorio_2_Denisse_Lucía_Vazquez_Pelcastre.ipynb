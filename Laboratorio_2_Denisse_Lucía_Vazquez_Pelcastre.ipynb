{
  "nbformat": 4,
  "nbformat_minor": 0,
  "metadata": {
    "colab": {
      "provenance": [],
      "authorship_tag": "ABX9TyMGC2Xd986Pqm4XQlxQvAX4",
      "include_colab_link": true
    },
    "kernelspec": {
      "name": "python3",
      "display_name": "Python 3"
    },
    "language_info": {
      "name": "python"
    }
  },
  "cells": [
    {
      "cell_type": "markdown",
      "metadata": {
        "id": "view-in-github",
        "colab_type": "text"
      },
      "source": [
        "<a href=\"https://colab.research.google.com/github/Denisse0306/PRUEBA/blob/main/Laboratorio_2_Denisse_Luc%C3%ADa_Vazquez_Pelcastre.ipynb\" target=\"_parent\"><img src=\"https://colab.research.google.com/assets/colab-badge.svg\" alt=\"Open In Colab\"/></a>"
      ]
    },
    {
      "cell_type": "markdown",
      "source": [
        "Laboratorio 2. Denisse Lucía Vázquez Pelcastre"
      ],
      "metadata": {
        "id": "gzgUQuEXjeAH"
      }
    },
    {
      "cell_type": "code",
      "source": [],
      "metadata": {
        "id": "b9PHVwDSjkPt"
      },
      "execution_count": null,
      "outputs": []
    },
    {
      "cell_type": "code",
      "source": [
        "from google.colab import drive\n",
        "drive.mount('/content/drive')\n",
        "\n",
        "import pandas as pd\n",
        "\n",
        "path =\"/content/drive/MyDrive/Conjunto de datos/atenciones_abogadas_de_las_mujeres - atenciones_abogadas_de_las_mujeres.csv.csv\"\n",
        "\n",
        "df = pd.read_csv(path)\n",
        "df.info()\n"
      ],
      "metadata": {
        "colab": {
          "base_uri": "https://localhost:8080/"
        },
        "id": "Ly4yWC8tjnw4",
        "outputId": "9ad01026-0c44-4774-fff8-c3bdec5548d6"
      },
      "execution_count": null,
      "outputs": [
        {
          "output_type": "stream",
          "name": "stdout",
          "text": [
            "Drive already mounted at /content/drive; to attempt to forcibly remount, call drive.mount(\"/content/drive\", force_remount=True).\n"
          ]
        },
        {
          "output_type": "stream",
          "name": "stderr",
          "text": [
            "<ipython-input-3-0e308bc20d47>:8: DtypeWarning: Columns (11,16,17,18) have mixed types. Specify dtype option on import or set low_memory=False.\n",
            "  df = pd.read_csv(path)\n"
          ]
        },
        {
          "output_type": "stream",
          "name": "stdout",
          "text": [
            "<class 'pandas.core.frame.DataFrame'>\n",
            "RangeIndex: 121509 entries, 0 to 121508\n",
            "Data columns (total 28 columns):\n",
            " #   Column                      Non-Null Count   Dtype  \n",
            "---  ------                      --------------   -----  \n",
            " 0   fecha                       121509 non-null  object \n",
            " 1   agencia                     120437 non-null  object \n",
            " 2   usuaria_sexo                121105 non-null  object \n",
            " 3   usuaria_nacionalidad        121155 non-null  object \n",
            " 4   usuaria_ent_fed_nacimiento  119484 non-null  object \n",
            " 5   usuaria_estado_civil        87591 non-null   object \n",
            " 6   usuaria_edad                119521 non-null  float64\n",
            " 7   usuaria_hijas               108642 non-null  float64\n",
            " 8   usuaria_hijos               102509 non-null  float64\n",
            " 9   usuaria_hijes               108309 non-null  float64\n",
            " 10  relacion_con_agresora       73497 non-null   object \n",
            " 11  agresora_ocupacion          41701 non-null   object \n",
            " 12  ci_iniciada                 99614 non-null   object \n",
            " 13  delito                      41982 non-null   object \n",
            " 14  representacion              116371 non-null  object \n",
            " 15  violencia_modalidad         106942 non-null  object \n",
            " 16  solicitud_medidas           39951 non-null   object \n",
            " 17  alto_riesgo                 52523 non-null   object \n",
            " 18  riesgo_feminicida           53555 non-null   object \n",
            " 19  vio_psicoemocional          121509 non-null  object \n",
            " 20  vio_fisica                  121509 non-null  object \n",
            " 21  vio_economica               121509 non-null  object \n",
            " 22  vio_patrimonial             121509 non-null  object \n",
            " 23  vio_sexual                  121509 non-null  object \n",
            " 24  vio_simbolica               121509 non-null  object \n",
            " 25  vio_obstetrica              121509 non-null  object \n",
            " 26  vio_reproductivos           121509 non-null  object \n",
            " 27  vio_feminicida;;            121509 non-null  object \n",
            "dtypes: float64(4), object(24)\n",
            "memory usage: 26.0+ MB\n"
          ]
        }
      ]
    },
    {
      "cell_type": "code",
      "source": [
        "import pandas as pd\n",
        "\n",
        "path =\"/content/drive/MyDrive/Conjunto de datos/atenciones_abogadas_de_las_mujeres - atenciones_abogadas_de_las_mujeres.csv.csv\"\n",
        "\n",
        "df = pd.read_csv(path)\n",
        "\n",
        "registros = df.shape[0]\n",
        "\n",
        "print(registros)\n"
      ],
      "metadata": {
        "colab": {
          "base_uri": "https://localhost:8080/"
        },
        "id": "tMnBoJdDldzP",
        "outputId": "8ccb7844-4ab6-484c-fd9f-e7d75d07ebee"
      },
      "execution_count": null,
      "outputs": [
        {
          "output_type": "stream",
          "name": "stdout",
          "text": [
            "121509\n"
          ]
        },
        {
          "output_type": "stream",
          "name": "stderr",
          "text": [
            "<ipython-input-4-97ee232e12f0>:5: DtypeWarning: Columns (11,16,17,18) have mixed types. Specify dtype option on import or set low_memory=False.\n",
            "  df = pd.read_csv(path)\n"
          ]
        }
      ]
    },
    {
      "cell_type": "code",
      "source": [
        "import pandas as pd\n",
        "\n",
        "path =\"/content/drive/MyDrive/Conjunto de datos/atenciones_abogadas_de_las_mujeres - atenciones_abogadas_de_las_mujeres.csv.csv\"\n",
        "\n",
        "df = pd.read_csv(path)\n",
        "\n",
        "df.tail(1)\n"
      ],
      "metadata": {
        "colab": {
          "base_uri": "https://localhost:8080/",
          "height": 182
        },
        "id": "x2S8JwIurRZ8",
        "outputId": "ead5ebdf-bdf5-4a62-d5ab-74fa609665fe"
      },
      "execution_count": null,
      "outputs": [
        {
          "output_type": "stream",
          "name": "stderr",
          "text": [
            "<ipython-input-6-dcd9e8cafc31>:5: DtypeWarning: Columns (11,16,17,18) have mixed types. Specify dtype option on import or set low_memory=False.\n",
            "  df = pd.read_csv(path)\n"
          ]
        },
        {
          "output_type": "execute_result",
          "data": {
            "text/plain": [
              "           fecha agencia usuaria_sexo usuaria_nacionalidad  \\\n",
              "121508  1/3/2022   COY-5        MUJER             MEXICANA   \n",
              "\n",
              "             usuaria_ent_fed_nacimiento usuaria_estado_civil  usuaria_edad  \\\n",
              "121508  VERACRUZ DE IGNACIO DE LA LLAVE           SOLTERA(O)          31.0   \n",
              "\n",
              "        usuaria_hijas  usuaria_hijos  usuaria_hijes  ... riesgo_feminicida  \\\n",
              "121508            0.0            0.0            0.0  ...                NO   \n",
              "\n",
              "       vio_psicoemocional vio_fisica vio_economica vio_patrimonial vio_sexual  \\\n",
              "121508                 Sí         Sí            No              Sí         No   \n",
              "\n",
              "       vio_simbolica vio_obstetrica vio_reproductivos vio_feminicida;;  \n",
              "121508            No             No                No             No;;  \n",
              "\n",
              "[1 rows x 28 columns]"
            ],
            "text/html": [
              "\n",
              "  <div id=\"df-0bc68feb-8648-4836-a2ea-f3fb4a68d827\" class=\"colab-df-container\">\n",
              "    <div>\n",
              "<style scoped>\n",
              "    .dataframe tbody tr th:only-of-type {\n",
              "        vertical-align: middle;\n",
              "    }\n",
              "\n",
              "    .dataframe tbody tr th {\n",
              "        vertical-align: top;\n",
              "    }\n",
              "\n",
              "    .dataframe thead th {\n",
              "        text-align: right;\n",
              "    }\n",
              "</style>\n",
              "<table border=\"1\" class=\"dataframe\">\n",
              "  <thead>\n",
              "    <tr style=\"text-align: right;\">\n",
              "      <th></th>\n",
              "      <th>fecha</th>\n",
              "      <th>agencia</th>\n",
              "      <th>usuaria_sexo</th>\n",
              "      <th>usuaria_nacionalidad</th>\n",
              "      <th>usuaria_ent_fed_nacimiento</th>\n",
              "      <th>usuaria_estado_civil</th>\n",
              "      <th>usuaria_edad</th>\n",
              "      <th>usuaria_hijas</th>\n",
              "      <th>usuaria_hijos</th>\n",
              "      <th>usuaria_hijes</th>\n",
              "      <th>...</th>\n",
              "      <th>riesgo_feminicida</th>\n",
              "      <th>vio_psicoemocional</th>\n",
              "      <th>vio_fisica</th>\n",
              "      <th>vio_economica</th>\n",
              "      <th>vio_patrimonial</th>\n",
              "      <th>vio_sexual</th>\n",
              "      <th>vio_simbolica</th>\n",
              "      <th>vio_obstetrica</th>\n",
              "      <th>vio_reproductivos</th>\n",
              "      <th>vio_feminicida;;</th>\n",
              "    </tr>\n",
              "  </thead>\n",
              "  <tbody>\n",
              "    <tr>\n",
              "      <th>121508</th>\n",
              "      <td>1/3/2022</td>\n",
              "      <td>COY-5</td>\n",
              "      <td>MUJER</td>\n",
              "      <td>MEXICANA</td>\n",
              "      <td>VERACRUZ DE IGNACIO DE LA LLAVE</td>\n",
              "      <td>SOLTERA(O)</td>\n",
              "      <td>31.0</td>\n",
              "      <td>0.0</td>\n",
              "      <td>0.0</td>\n",
              "      <td>0.0</td>\n",
              "      <td>...</td>\n",
              "      <td>NO</td>\n",
              "      <td>Sí</td>\n",
              "      <td>Sí</td>\n",
              "      <td>No</td>\n",
              "      <td>Sí</td>\n",
              "      <td>No</td>\n",
              "      <td>No</td>\n",
              "      <td>No</td>\n",
              "      <td>No</td>\n",
              "      <td>No;;</td>\n",
              "    </tr>\n",
              "  </tbody>\n",
              "</table>\n",
              "<p>1 rows × 28 columns</p>\n",
              "</div>\n",
              "    <div class=\"colab-df-buttons\">\n",
              "\n",
              "  <div class=\"colab-df-container\">\n",
              "    <button class=\"colab-df-convert\" onclick=\"convertToInteractive('df-0bc68feb-8648-4836-a2ea-f3fb4a68d827')\"\n",
              "            title=\"Convert this dataframe to an interactive table.\"\n",
              "            style=\"display:none;\">\n",
              "\n",
              "  <svg xmlns=\"http://www.w3.org/2000/svg\" height=\"24px\" viewBox=\"0 -960 960 960\">\n",
              "    <path d=\"M120-120v-720h720v720H120Zm60-500h600v-160H180v160Zm220 220h160v-160H400v160Zm0 220h160v-160H400v160ZM180-400h160v-160H180v160Zm440 0h160v-160H620v160ZM180-180h160v-160H180v160Zm440 0h160v-160H620v160Z\"/>\n",
              "  </svg>\n",
              "    </button>\n",
              "\n",
              "  <style>\n",
              "    .colab-df-container {\n",
              "      display:flex;\n",
              "      gap: 12px;\n",
              "    }\n",
              "\n",
              "    .colab-df-convert {\n",
              "      background-color: #E8F0FE;\n",
              "      border: none;\n",
              "      border-radius: 50%;\n",
              "      cursor: pointer;\n",
              "      display: none;\n",
              "      fill: #1967D2;\n",
              "      height: 32px;\n",
              "      padding: 0 0 0 0;\n",
              "      width: 32px;\n",
              "    }\n",
              "\n",
              "    .colab-df-convert:hover {\n",
              "      background-color: #E2EBFA;\n",
              "      box-shadow: 0px 1px 2px rgba(60, 64, 67, 0.3), 0px 1px 3px 1px rgba(60, 64, 67, 0.15);\n",
              "      fill: #174EA6;\n",
              "    }\n",
              "\n",
              "    .colab-df-buttons div {\n",
              "      margin-bottom: 4px;\n",
              "    }\n",
              "\n",
              "    [theme=dark] .colab-df-convert {\n",
              "      background-color: #3B4455;\n",
              "      fill: #D2E3FC;\n",
              "    }\n",
              "\n",
              "    [theme=dark] .colab-df-convert:hover {\n",
              "      background-color: #434B5C;\n",
              "      box-shadow: 0px 1px 3px 1px rgba(0, 0, 0, 0.15);\n",
              "      filter: drop-shadow(0px 1px 2px rgba(0, 0, 0, 0.3));\n",
              "      fill: #FFFFFF;\n",
              "    }\n",
              "  </style>\n",
              "\n",
              "    <script>\n",
              "      const buttonEl =\n",
              "        document.querySelector('#df-0bc68feb-8648-4836-a2ea-f3fb4a68d827 button.colab-df-convert');\n",
              "      buttonEl.style.display =\n",
              "        google.colab.kernel.accessAllowed ? 'block' : 'none';\n",
              "\n",
              "      async function convertToInteractive(key) {\n",
              "        const element = document.querySelector('#df-0bc68feb-8648-4836-a2ea-f3fb4a68d827');\n",
              "        const dataTable =\n",
              "          await google.colab.kernel.invokeFunction('convertToInteractive',\n",
              "                                                    [key], {});\n",
              "        if (!dataTable) return;\n",
              "\n",
              "        const docLinkHtml = 'Like what you see? Visit the ' +\n",
              "          '<a target=\"_blank\" href=https://colab.research.google.com/notebooks/data_table.ipynb>data table notebook</a>'\n",
              "          + ' to learn more about interactive tables.';\n",
              "        element.innerHTML = '';\n",
              "        dataTable['output_type'] = 'display_data';\n",
              "        await google.colab.output.renderOutput(dataTable, element);\n",
              "        const docLink = document.createElement('div');\n",
              "        docLink.innerHTML = docLinkHtml;\n",
              "        element.appendChild(docLink);\n",
              "      }\n",
              "    </script>\n",
              "  </div>\n",
              "\n",
              "    </div>\n",
              "  </div>\n"
            ]
          },
          "metadata": {},
          "execution_count": 6
        }
      ]
    },
    {
      "cell_type": "code",
      "source": [
        "import pandas as pd\n",
        "\n",
        "path =\"/content/drive/MyDrive/Conjunto de datos/atenciones_abogadas_de_las_mujeres - atenciones_abogadas_de_las_mujeres.csv.csv\"\n",
        "\n",
        "df = pd.read_csv(path)\n",
        "\n",
        "df[\"fecha\"] = pd.to_datetime(df[\"fecha\"], format=\"%d/%m/%Y\")\n",
        "\n",
        "fecha_inicial = df[\"fecha\"].min()\n",
        "\n",
        "fecha_final = df[\"fecha\"].max()\n",
        "\n",
        "print(f\"El rango de fecha es del {fecha_inicial} al {fecha_final}\")\n"
      ],
      "metadata": {
        "colab": {
          "base_uri": "https://localhost:8080/"
        },
        "id": "myHmfO0Orf81",
        "outputId": "10cda2ee-8b6e-4efe-d8dc-c37433eb20f5"
      },
      "execution_count": null,
      "outputs": [
        {
          "output_type": "stream",
          "name": "stdout",
          "text": [
            "El rango de fecha es del 2019-03-01 00:00:00 al 2022-03-01 00:00:00\n"
          ]
        },
        {
          "output_type": "stream",
          "name": "stderr",
          "text": [
            "<ipython-input-7-ada8e87424de>:5: DtypeWarning: Columns (11,16,17,18) have mixed types. Specify dtype option on import or set low_memory=False.\n",
            "  df = pd.read_csv(path)\n"
          ]
        }
      ]
    },
    {
      "cell_type": "code",
      "source": [
        "import pandas as pd\n",
        "import matplotlib.pyplot as plt\n",
        "\n",
        "path =\"/content/drive/MyDrive/Conjunto de datos/atenciones_abogadas_de_las_mujeres - atenciones_abogadas_de_las_mujeres.csv.csv\"\n",
        "\n",
        "df = pd.read_csv(path)\n",
        "\n",
        "media = df[\"usuaria_edad\"].mean()\n",
        "\n",
        "print(media)\n"
      ],
      "metadata": {
        "colab": {
          "base_uri": "https://localhost:8080/"
        },
        "id": "OUZ5Z87asx58",
        "outputId": "a6ca9db5-582e-4003-f31b-cebb9a848bde"
      },
      "execution_count": null,
      "outputs": [
        {
          "output_type": "stream",
          "name": "stdout",
          "text": [
            "38.38670191849131\n"
          ]
        },
        {
          "output_type": "stream",
          "name": "stderr",
          "text": [
            "<ipython-input-8-cb62a619d73f>:6: DtypeWarning: Columns (11,16,17,18) have mixed types. Specify dtype option on import or set low_memory=False.\n",
            "  df = pd.read_csv(path)\n"
          ]
        }
      ]
    },
    {
      "cell_type": "code",
      "source": [
        "import pandas as pd\n",
        "import matplotlib.pyplot as plt\n",
        "\n",
        "path =\"/content/drive/MyDrive/Conjunto de datos/atenciones_abogadas_de_las_mujeres - atenciones_abogadas_de_las_mujeres.csv.csv\"\n",
        "\n",
        "df = pd.read_csv(path)\n",
        "\n",
        "moda = df[\"usuaria_edad\"].mode()\n",
        "\n",
        "print(moda)"
      ],
      "metadata": {
        "colab": {
          "base_uri": "https://localhost:8080/"
        },
        "id": "T023fDWWtRZW",
        "outputId": "2c074e46-75a1-472f-903d-dc362b765869"
      },
      "execution_count": null,
      "outputs": [
        {
          "output_type": "stream",
          "name": "stdout",
          "text": [
            "0    30.0\n",
            "Name: usuaria_edad, dtype: float64\n"
          ]
        },
        {
          "output_type": "stream",
          "name": "stderr",
          "text": [
            "<ipython-input-11-609a8d8559e1>:6: DtypeWarning: Columns (11,16,17,18) have mixed types. Specify dtype option on import or set low_memory=False.\n",
            "  df = pd.read_csv(path)\n"
          ]
        }
      ]
    }
  ]
}