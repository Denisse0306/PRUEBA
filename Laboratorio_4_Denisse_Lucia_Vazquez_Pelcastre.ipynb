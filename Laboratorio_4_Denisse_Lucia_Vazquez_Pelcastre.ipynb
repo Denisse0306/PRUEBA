{
  "nbformat": 4,
  "nbformat_minor": 0,
  "metadata": {
    "colab": {
      "provenance": [],
      "mount_file_id": "1N35rez5SPWEiQ21vdCSA4q8wOwU7TBSr",
      "authorship_tag": "ABX9TyO7S/ilFIPQKdVrfgHqBp7n",
      "include_colab_link": true
    },
    "kernelspec": {
      "name": "python3",
      "display_name": "Python 3"
    },
    "language_info": {
      "name": "python"
    }
  },
  "cells": [
    {
      "cell_type": "markdown",
      "metadata": {
        "id": "view-in-github",
        "colab_type": "text"
      },
      "source": [
        "<a href=\"https://colab.research.google.com/github/Denisse0306/PRUEBA/blob/main/Laboratorio_4_Denisse_Lucia_Vazquez_Pelcastre.ipynb\" target=\"_parent\"><img src=\"https://colab.research.google.com/assets/colab-badge.svg\" alt=\"Open In Colab\"/></a>"
      ]
    },
    {
      "cell_type": "code",
      "source": [
        "from google.colab import drive\n",
        "drive.mount('/content/drive')"
      ],
      "metadata": {
        "colab": {
          "base_uri": "https://localhost:8080/"
        },
        "id": "-wf8mo9HPVxL",
        "outputId": "34b228f1-95bc-4fc0-d40e-4553b178a71e"
      },
      "execution_count": 1,
      "outputs": [
        {
          "output_type": "stream",
          "name": "stdout",
          "text": [
            "Mounted at /content/drive\n"
          ]
        }
      ]
    },
    {
      "cell_type": "code",
      "source": [
        "In [15]: path = \"/content/drive/MyDrive/Conjunto de datos/{ a Mozilla5.0 (Windows NT 6.1; WOW.txt\"\n",
        "In [16]: open(path).readline()\n",
        "Out[16]: { \"a\": \"Mozilla\\/5.0 (Windows NT 6.1; WOW64) AppleWebKit\\/535.11 (KHTML, like Gecko) Chrome\\/17.0.963.78 Safari\\/535.11\", \"c\": \"US\", \"nk\": 1, \"tz\": \"America\\/New_York\", \"gr\": \"MA\", \"g\": \"A6qOVH\", \"h\": \"wfLQtf\", \"l\": \"orofrog\", \"al\": \"en-US,en;q=0.8\", \"hh\": \"1.usa.gov\", \"r\": \"http:\\/\\/www.facebook.com\\/l\\/7AQEFzjSi\\/1.usa.gov\\/wfLQtf\", \"u\": \"http:\\/\\/www.ncbi.nlm.nih.gov\\/pubmed\\/22415991\", \"t\": 1331923247, \"hc\": 1331822918, \"cy\": \"Danvers\", \"ll\": [ 42.576698, -70.954903 ] }\n",
        "{ \"a\": \"GoogleMaps\\/RochesterNY\", \"c\": \"US\", \"nk\": 0, \"tz\": \"America\\/Denver\", \"gr\": \"UT\", \"g\": \"mwszkS\", \"h\": \"mwszkS\", \"l\": \"bitly\", \"hh\": \"j.mp\", \"r\": \"http:\\/\\/www.AwareMap.com\\/\", \"u\": \"http:\\/\\/www.monroecounty.gov\\/etc\\/911\\/rss.php\", \"t\": 1331923249, \"hc\": 1308262393, \"cy\": \"Provo\", \"ll\": [ 40.218102, -111.613297 ] }\n",
        "{ \"a\": \"Mozilla\\/4.0 (compatible; MSIE 8.0; Windows NT 6.1; WOW64; Trident\\/4.0; SLCC2; .NET CLR 2.0.50727; .NET CLR 3.5.30729; .NET CLR 3.0.30729; Media Center PC 6.0; .NET4.0C; .NET4.0E; InfoPath.3)\", \"c\": \"US\", \"nk\": 1, \"tz\": \"America\\/New_York\", \"gr\": \"DC\", \"g\": \"xxr3Qb\", \"h\": \"xxr3Qb\", \"l\": \"bitly\", \"al\": \"en-US\", \"hh\": \"1.usa.gov\", \"r\": \"http:\\/\\/t.co\\/03elZC4Q\", \"u\": \"http:\\/\\/boxer.senate.gov\\/en\\/press\\/releases\\/031612.cfm\", \"t\": 1331923250, \"hc\": 1331919941, \"cy\": \"Washington\", \"ll\": [ 38.900700, -77.043098 ] }\n",
        "import json\n",
        "path = '/content/drive/MyDrive/Conjunto de datos/{ a Mozilla5.0 (Windows NT 6.1; WOW.txt'\n",
        "records = [json.loads(line) for line in open(path)]\n",
        "In [18]: records[0]\n",
        "Out[18]: {'a': 'Mozilla\\\\/4.0 (compatible; MSIE 8.0; Windows NT 6.1; WOW64; Trident\\\\/4.0; SLCC2; .NET CLR 2.0.50727; .NET CLR 3.5.30729; .NET CLR 3.0.30729; Media Center PC 6.0; .NET4.0C; .NET4.0E; InfoPath.3)',\n",
        " 'c': 'US',\n",
        " 'nk': 1,\n",
        " 'tz': 'America\\\\/New_York',\n",
        " 'gr': 'DC',\n",
        " 'g': 'xxr3Qb',\n",
        " 'h': 'xxr3Qb',\n",
        " 'l': 'bitly',\n",
        " 'al': 'en-US',\n",
        " 'hh': '1.usa.gov',\n",
        " 'r': 'http:\\\\/\\\\/t.co\\\\/03elZC4Q',\n",
        " 'u': 'http:\\\\/\\\\/boxer.senate.gov\\\\/en\\\\/press\\\\/releases\\\\/031612.cfm',\n",
        " 't': 1331923250,\n",
        " 'hc': 1331919941,\n",
        " 'cy': 'Washington',\n",
        " 'll': [38.9007, -77.043098]}\n",
        "In [19]: records[0]['tz']\n",
        "Out[19]: u'America/New_York'\n",
        "In [25]: time_zones = [rec['tz'] for rec in records]\n",
        "In [26]: time_zones = [rec['tz'] for rec in records if 'tz' in rec]\n",
        "In [27]: time_zones[:10]\n",
        "Out[27]: [u'America/New_York',\n",
        "u'America/Denver',\n",
        "u'America/New_York',\n",
        "u'America/Sao_Paulo',\n",
        "u'America/New_York',\n",
        "u'America/New_York',\n",
        "u'Europe/Warsaw',\n",
        "u'',\n",
        "u'',\n",
        "u'']"
      ],
      "metadata": {
        "id": "indE5JY8PeDq"
      },
      "execution_count": 41,
      "outputs": []
    }
  ]
}